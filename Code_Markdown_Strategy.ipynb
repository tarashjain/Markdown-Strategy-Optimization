{
  "nbformat": 4,
  "nbformat_minor": 0,
  "metadata": {
    "kernelspec": {
      "display_name": "Python 3",
      "language": "python",
      "name": "python3"
    },
    "language_info": {
      "codemirror_mode": {
        "name": "ipython",
        "version": 3
      },
      "file_extension": ".py",
      "mimetype": "text/x-python",
      "name": "python",
      "nbconvert_exporter": "python",
      "pygments_lexer": "ipython3",
      "version": "3.7.7"
    },
    "colab": {
      "name": "Code - Markdown Strategy - Group Assignment 1.ipynb",
      "provenance": [],
      "collapsed_sections": [
        "3sAnzwLQwr32"
      ],
      "toc_visible": true
    }
  },
  "cells": [
    {
      "cell_type": "markdown",
      "metadata": {
        "id": "Uptg4PHbxJmF"
      },
      "source": [
        "## Retailer Game - Ramandeep Randhawa \n",
        "http://www.randhawa.us/games/retailer/retailer.html\n",
        "## Markdown Strategy - Optimization Technique"
      ]
    },
    {
      "cell_type": "markdown",
      "metadata": {
        "id": "KOMJtJvnwwMZ"
      },
      "source": [
        "### Importing Libraries"
      ]
    },
    {
      "cell_type": "code",
      "metadata": {
        "id": "K8dxo49Swr3V"
      },
      "source": [
        "import numpy as np\n",
        "import pandas as pd\n",
        "import gurobipy as gb\n",
        "from gurobipy import *"
      ],
      "execution_count": null,
      "outputs": []
    },
    {
      "cell_type": "code",
      "metadata": {
        "id": "SKTmJtSYwr3h"
      },
      "source": [
        "prob = Model(\"Assignment_RM\")"
      ],
      "execution_count": null,
      "outputs": []
    },
    {
      "cell_type": "markdown",
      "metadata": {
        "id": "bcfGXkT9wr3l"
      },
      "source": [
        "#### The user has to input the first demand realized"
      ]
    },
    {
      "cell_type": "code",
      "metadata": {
        "id": "b9iumbOUwr3p",
        "outputId": "8681b470-3780-4a2d-8048-4904ac081d42"
      },
      "source": [
        "D1 = int(input('Enter First Demand Value at Week1:'))"
      ],
      "execution_count": null,
      "outputs": [
        {
          "output_type": "stream",
          "text": [
            "Enter First Demand Value at Week1:121\n"
          ],
          "name": "stdout"
        }
      ]
    },
    {
      "cell_type": "markdown",
      "metadata": {
        "id": "309AHFoVwr3u"
      },
      "source": [
        "#### We calculate the demands as per the demand jump from 60 -> 54, 54 -> 48 and 48 -> 36 "
      ]
    },
    {
      "cell_type": "code",
      "metadata": {
        "id": "6PNPudQEwr3x"
      },
      "source": [
        "Var = [D1,D1*1.31, D1*1.75, D1*2.81]"
      ],
      "execution_count": null,
      "outputs": []
    },
    {
      "cell_type": "markdown",
      "metadata": {
        "id": "3sAnzwLQwr32"
      },
      "source": [
        "#### We have taken 15 Price variables and 15 Demand Variables\n",
        "#### We have also taken 60 Dummy Variables as we have to take one of the 4 price (60,54,48,36) and choose subsequent demands\n",
        "\n",
        "![image.png](attachment:image.png)"
      ]
    },
    {
      "cell_type": "code",
      "metadata": {
        "id": "J7LtaBDmwr34"
      },
      "source": [
        "X1=prob.addVar(vtype=GRB.BINARY, name = \"X1\")\n",
        "X2=prob.addVar(vtype=GRB.BINARY, name = \"X2\")\n",
        "X3=prob.addVar(vtype=GRB.BINARY, name = \"X3\")\n",
        "X4=prob.addVar(vtype=GRB.BINARY, name = \"X4\")\n",
        "X5=prob.addVar(vtype=GRB.BINARY, name = \"X5\")\n",
        "X6=prob.addVar(vtype=GRB.BINARY, name = \"X6\")\n",
        "X7=prob.addVar(vtype=GRB.BINARY, name = \"X7\")\n",
        "X8=prob.addVar(vtype=GRB.BINARY, name = \"X8\")\n",
        "X9=prob.addVar(vtype=GRB.BINARY, name = \"X9\")\n",
        "X10=prob.addVar(vtype=GRB.BINARY, name = \"X10\")\n",
        "X11=prob.addVar(vtype=GRB.BINARY, name = \"X11\")\n",
        "X12=prob.addVar(vtype=GRB.BINARY, name = \"X12\")\n",
        "X13=prob.addVar(vtype=GRB.BINARY, name = \"X13\")\n",
        "X14=prob.addVar(vtype=GRB.BINARY, name = \"X14\")\n",
        "X15=prob.addVar(vtype=GRB.BINARY, name = \"X15\")\n",
        "X16=prob.addVar(vtype=GRB.BINARY, name = \"X16\")\n",
        "X17=prob.addVar(vtype=GRB.BINARY, name = \"X17\")\n",
        "X18=prob.addVar(vtype=GRB.BINARY, name = \"X18\")\n",
        "X19=prob.addVar(vtype=GRB.BINARY, name = \"X19\")\n",
        "X20=prob.addVar(vtype=GRB.BINARY, name = \"X20\")\n",
        "X21=prob.addVar(vtype=GRB.BINARY, name = \"X21\")\n",
        "X22=prob.addVar(vtype=GRB.BINARY, name = \"X22\")\n",
        "X23=prob.addVar(vtype=GRB.BINARY, name = \"X23\")\n",
        "X24=prob.addVar(vtype=GRB.BINARY, name = \"X24\")\n",
        "X25=prob.addVar(vtype=GRB.BINARY, name = \"X25\")\n",
        "X26=prob.addVar(vtype=GRB.BINARY, name = \"X26\")\n",
        "X27=prob.addVar(vtype=GRB.BINARY, name = \"X27\")\n",
        "X28=prob.addVar(vtype=GRB.BINARY, name = \"X28\")\n",
        "X29=prob.addVar(vtype=GRB.BINARY, name = \"X29\")\n",
        "X30=prob.addVar(vtype=GRB.BINARY, name = \"X30\")\n",
        "X31=prob.addVar(vtype=GRB.BINARY, name = \"X31\")\n",
        "X32=prob.addVar(vtype=GRB.BINARY, name = \"X32\")\n",
        "X33=prob.addVar(vtype=GRB.BINARY, name = \"X33\")\n",
        "X34=prob.addVar(vtype=GRB.BINARY, name = \"X34\")\n",
        "X35=prob.addVar(vtype=GRB.BINARY, name = \"X35\")\n",
        "X36=prob.addVar(vtype=GRB.BINARY, name = \"X36\")\n",
        "X37=prob.addVar(vtype=GRB.BINARY, name = \"X37\")\n",
        "X38=prob.addVar(vtype=GRB.BINARY, name = \"X38\")\n",
        "X39=prob.addVar(vtype=GRB.BINARY, name = \"X39\")\n",
        "X40=prob.addVar(vtype=GRB.BINARY, name = \"X40\")\n",
        "X41=prob.addVar(vtype=GRB.BINARY, name = \"X41\")\n",
        "X42=prob.addVar(vtype=GRB.BINARY, name = \"X42\")\n",
        "X43=prob.addVar(vtype=GRB.BINARY, name = \"X43\")\n",
        "X44=prob.addVar(vtype=GRB.BINARY, name = \"X44\")\n",
        "X45=prob.addVar(vtype=GRB.BINARY, name = \"X45\")\n",
        "X46=prob.addVar(vtype=GRB.BINARY, name = \"X46\")\n",
        "X47=prob.addVar(vtype=GRB.BINARY, name = \"X47\")\n",
        "X48=prob.addVar(vtype=GRB.BINARY, name = \"X48\")\n",
        "X49=prob.addVar(vtype=GRB.BINARY, name = \"X49\")\n",
        "X50=prob.addVar(vtype=GRB.BINARY, name = \"X50\")\n",
        "X51=prob.addVar(vtype=GRB.BINARY, name = \"X51\")\n",
        "X52=prob.addVar(vtype=GRB.BINARY, name = \"X52\")\n",
        "X53=prob.addVar(vtype=GRB.BINARY, name = \"X53\")\n",
        "X54=prob.addVar(vtype=GRB.BINARY, name = \"X54\")\n",
        "X55=prob.addVar(vtype=GRB.BINARY, name = \"X55\")\n",
        "X56=prob.addVar(vtype=GRB.BINARY, name = \"X56\")\n",
        "X57=prob.addVar(vtype=GRB.BINARY, name = \"X57\")\n",
        "X58=prob.addVar(vtype=GRB.BINARY, name = \"X58\")\n",
        "X59=prob.addVar(vtype=GRB.BINARY, name = \"X59\")\n",
        "X60=prob.addVar(vtype=GRB.BINARY, name = \"X60\")\n",
        "\n",
        "\n",
        "P1=prob.addVar(lb = 0, name = \"P1\")\n",
        "P2=prob.addVar(lb = 0, name = \"P2\")\n",
        "P3=prob.addVar(lb = 0, name = \"P3\")\n",
        "P4=prob.addVar(lb = 0, name = \"P4\")\n",
        "P5=prob.addVar(lb = 0, name = \"P5\")\n",
        "P6=prob.addVar(lb = 0, name = \"P6\")\n",
        "P7=prob.addVar(lb = 0, name = \"P7\")\n",
        "P8=prob.addVar(lb = 0, name = \"P8\")\n",
        "P9=prob.addVar(lb = 0, name = \"P9\")\n",
        "P10=prob.addVar(lb = 0, name = \"P10\")\n",
        "P11=prob.addVar(lb = 0, name = \"P11\")\n",
        "P12=prob.addVar(lb = 0, name = \"P12\")\n",
        "P13=prob.addVar(lb = 0, name = \"P13\")\n",
        "P14=prob.addVar(lb = 0, name = \"P14\")\n",
        "P15=prob.addVar(lb = 0, name = \"P15\")\n",
        "\n",
        "D2=prob.addVar(lb = 0, name = \"D2\")\n",
        "D3=prob.addVar(lb = 0, name = \"D3\")\n",
        "D4=prob.addVar(lb = 0, name = \"D4\")\n",
        "D5=prob.addVar(lb = 0, name = \"D5\")\n",
        "D6=prob.addVar(lb = 0, name = \"D6\")\n",
        "D7=prob.addVar(lb = 0, name = \"D7\")\n",
        "D8=prob.addVar(lb = 0, name = \"D8\")\n",
        "D9=prob.addVar(lb = 0, name = \"D9\")\n",
        "D10=prob.addVar(lb = 0, name = \"D10\")\n",
        "D11=prob.addVar(lb = 0, name = \"D11\")\n",
        "D12=prob.addVar(lb = 0, name = \"D12\")\n",
        "D13=prob.addVar(lb = 0, name = \"D13\")\n",
        "D14=prob.addVar(lb = 0, name = \"D14\")\n",
        "D15=prob.addVar(lb = 0, name = \"D15\")\n",
        "\n"
      ],
      "execution_count": null,
      "outputs": []
    },
    {
      "cell_type": "code",
      "metadata": {
        "id": "NctqOyDmwr37"
      },
      "source": [
        "X = np.array([\n",
        "    [X1,X2,X3,X4],\n",
        "    [X5,X6,X7,X8],\n",
        "    [X9,X10,X11,X12],\n",
        "    [X13,X14,X15,X16],\n",
        "    [X17,X18,X19,X20],\n",
        "    [X21,X22,X23,X24],\n",
        "    [X25,X26,X27,X28],\n",
        "    [X29,X30,X31,X32],\n",
        "    [X33,X34,X35,X36],\n",
        "    [X37,X38,X39,X40],\n",
        "    [X41,X42,X43,X44],\n",
        "    [X45,X46,X47,X48],\n",
        "    [X49,X50,X51,X52],\n",
        "    [X53,X54,X55,X56],\n",
        "    [X57,X58,X59,X60]\n",
        "\n",
        "])\n",
        "\n",
        "D = [D1,D2,D3,D4,D5,D6,D7,D8,D9,D10,D11,D12,D13,D14,D15]\n",
        "P = [P1,P2,P3,P4,P5,P6,P7,P8,P9,P10,P11,P12,P13,P14,P15]"
      ],
      "execution_count": null,
      "outputs": []
    },
    {
      "cell_type": "markdown",
      "metadata": {
        "id": "1uOpLeqUwr38"
      },
      "source": [
        "### Constraints"
      ]
    },
    {
      "cell_type": "code",
      "metadata": {
        "id": "uei7_xHxwr39",
        "outputId": "30b5ae61-2fc2-4921-bda0-79900456ad7d"
      },
      "source": [
        "for i in range(1,15):\n",
        "    prob.addConstr(P[i-1]-P[i]>=0)\n",
        "    \n",
        "prob.addConstr(P[0]==60)"
      ],
      "execution_count": null,
      "outputs": [
        {
          "output_type": "execute_result",
          "data": {
            "text/plain": [
              "<gurobi.Constr *Awaiting Model Update*>"
            ]
          },
          "metadata": {
            "tags": []
          },
          "execution_count": 171
        }
      ]
    },
    {
      "cell_type": "code",
      "metadata": {
        "id": "3tgl_PfOwr4A"
      },
      "source": [
        "for i in range(15):\n",
        "    prob.addConstr(P[i] - (60*X[i,0]+54*X[i,1]+48*X[i,2]+36*X[i,3]) == 0)"
      ],
      "execution_count": null,
      "outputs": []
    },
    {
      "cell_type": "code",
      "metadata": {
        "id": "aBJC-dvfwr4B"
      },
      "source": [
        "for i in range(15):\n",
        "    prob.addConstr(X[i,0]+X[i,1]+X[i,2]+X[i,3] == 1)"
      ],
      "execution_count": null,
      "outputs": []
    },
    {
      "cell_type": "code",
      "metadata": {
        "id": "oGEoWt33wr4C",
        "outputId": "b144184c-8d6e-481e-a83d-873274cd879b"
      },
      "source": [
        "prob.addConstr(D[1]+D[2]+D[3]+D[4]+D[5]+D[6]+D[7]+D[8]+D[9]+D[10]+D[11]+D[12]+D[13]+D[14]+D[0] <= 2000)"
      ],
      "execution_count": null,
      "outputs": [
        {
          "output_type": "execute_result",
          "data": {
            "text/plain": [
              "<gurobi.Constr *Awaiting Model Update*>"
            ]
          },
          "metadata": {
            "tags": []
          },
          "execution_count": 174
        }
      ]
    },
    {
      "cell_type": "code",
      "metadata": {
        "id": "C5ukOw2qwr4E"
      },
      "source": [
        "for i in range(1,15):\n",
        "    prob.addConstr(D[i]-(Var[0]*X[i,0]+Var[1]*X[i,1]+Var[2]*X[i,2]+Var[3]*X[i,3]) == 0)"
      ],
      "execution_count": null,
      "outputs": []
    },
    {
      "cell_type": "markdown",
      "metadata": {
        "id": "_C3IECfCwr4G"
      },
      "source": [
        "### Objective Function\n",
        "![image.png](attachment:image.png)"
      ]
    },
    {
      "cell_type": "code",
      "metadata": {
        "id": "jvHKcSiewr4H"
      },
      "source": [
        "prob.setObjective(D1*P1+D2*P2+D3*P3+D4*P4+D5*P5+D6*P6+D7*P7+D8*P8+D9*P9+D10*P10+D11*P11\n",
        "               +D12*P12+D13*P13+D14*P14+D15*P15, GRB.MAXIMIZE)"
      ],
      "execution_count": null,
      "outputs": []
    },
    {
      "cell_type": "code",
      "metadata": {
        "scrolled": true,
        "id": "JIHyDIW6wr4H",
        "outputId": "28268e54-24be-4dfa-8675-a378520357e2"
      },
      "source": [
        "prob.params.NonConvex = 2\n",
        "prob.optimize()"
      ],
      "execution_count": null,
      "outputs": [
        {
          "output_type": "stream",
          "text": [
            "Changed value of parameter NonConvex to 2\n",
            "   Prev: -1  Min: -1  Max: 2  Default: -1\n",
            "Gurobi Optimizer version 9.1.0 build v9.1.0rc0 (win64)\n",
            "Thread count: 2 physical cores, 4 logical processors, using up to 4 threads\n",
            "Optimize a model with 60 rows, 89 columns and 248 nonzeros\n",
            "Model fingerprint: 0x9f4d66ad\n",
            "Model has 14 quadratic objective terms\n",
            "Variable types: 29 continuous, 60 integer (60 binary)\n",
            "Coefficient statistics:\n",
            "  Matrix range     [1e+00, 3e+02]\n",
            "  Objective range  [1e+02, 1e+02]\n",
            "  QObjective range [2e+00, 2e+00]\n",
            "  Bounds range     [1e+00, 1e+00]\n",
            "  RHS range        [1e+00, 2e+03]\n",
            "Presolve removed 50 rows and 77 columns\n",
            "Presolve time: 0.00s\n",
            "Presolved: 15 rows, 15 columns, 45 nonzeros\n",
            "Presolved model has 2 bilinear constraint(s)\n",
            "Variable types: 5 continuous, 10 integer (8 binary)\n",
            "\n",
            "Root relaxation: objective 1.155112e+05, 14 iterations, 0.00 seconds\n",
            "\n",
            "    Nodes    |    Current Node    |     Objective Bounds      |     Work\n",
            " Expl Unexpl |  Obj  Depth IntInf | Incumbent    BestBd   Gap | It/Node Time\n",
            "\n",
            "     0     0 115511.234    0   10          - 115511.234      -     -    0s\n",
            "H    0     0                    114098.16000 115511.234  1.24%     -    0s\n",
            "H    0     0                    114403.08000 115511.234  0.97%     -    0s\n",
            "H    0     0                    114708.00000 115511.234  0.70%     -    0s\n",
            "     0     0     cutoff    0      114708.000 114708.000  0.00%     -    0s\n",
            "\n",
            "Cutting planes:\n",
            "  Cover: 1\n",
            "  Implied bound: 4\n",
            "  Clique: 1\n",
            "  MIR: 1\n",
            "  RLT: 1\n",
            "\n",
            "Explored 1 nodes (20 simplex iterations) in 0.09 seconds\n",
            "Thread count was 4 (of 4 available processors)\n",
            "\n",
            "Solution count 3: 114708 114403 114098 \n",
            "\n",
            "Optimal solution found (tolerance 1.00e-04)\n",
            "Best objective 1.147080000000e+05, best bound 1.147080000000e+05, gap 0.0000%\n"
          ],
          "name": "stdout"
        }
      ]
    },
    {
      "cell_type": "markdown",
      "metadata": {
        "id": "EHLkGnznwr4K"
      },
      "source": [
        "### Results"
      ]
    },
    {
      "cell_type": "code",
      "metadata": {
        "scrolled": false,
        "id": "EjLM17zNwr4L",
        "outputId": "97e3f959-976e-4a7b-99c7-755fa407ee63"
      },
      "source": [
        "print(\"###Optimal Strategy###\")\n",
        "\n",
        "obj = prob.getObjective()\n",
        "print('Revenue: {}'.format(obj.getValue()))\n",
        "    \n",
        "print('\\n')\n",
        "for i in range(15):\n",
        "    print('Week {}: {}'.format(i+1,round(P[i].X)))"
      ],
      "execution_count": null,
      "outputs": [
        {
          "output_type": "stream",
          "text": [
            "###Optimal Strategy###\n",
            "Revenue: 114708.0\n",
            "\n",
            "\n",
            "Week 1: 60\n",
            "Week 2: 60\n",
            "Week 3: 60\n",
            "Week 4: 60\n",
            "Week 5: 60\n",
            "Week 6: 60\n",
            "Week 7: 60\n",
            "Week 8: 60\n",
            "Week 9: 60\n",
            "Week 10: 60\n",
            "Week 11: 60\n",
            "Week 12: 60\n",
            "Week 13: 60\n",
            "Week 14: 48\n",
            "Week 15: 48\n"
          ],
          "name": "stdout"
        }
      ]
    },
    {
      "cell_type": "code",
      "metadata": {
        "id": "svajqkL-wr4M"
      },
      "source": [
        ""
      ],
      "execution_count": null,
      "outputs": []
    }
  ]
}